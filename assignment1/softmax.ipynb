{
 "cells": [
  {
   "cell_type": "markdown",
   "metadata": {},
   "source": [
    "# Softmax exercise\n",
    "\n",
    "*Complete and hand in this completed worksheet (including its outputs and any supporting code outside of the worksheet) with your assignment submission. For more details see the [assignments page](http://vision.stanford.edu/teaching/cs231n/assignments.html) on the course website.*\n",
    "\n",
    "This exercise is analogous to the SVM exercise. You will:\n",
    "\n",
    "- implement a fully-vectorized **loss function** for the Softmax classifier\n",
    "- implement the fully-vectorized expression for its **analytic gradient**\n",
    "- **check your implementation** with numerical gradient\n",
    "- use a validation set to **tune the learning rate and regularization** strength\n",
    "- **optimize** the loss function with **SGD**\n",
    "- **visualize** the final learned weights\n"
   ]
  },
  {
   "cell_type": "code",
   "execution_count": 1,
   "metadata": {
    "collapsed": false
   },
   "outputs": [],
   "source": [
    "import random\n",
    "import numpy as np\n",
    "from cs231n.data_utils import load_CIFAR10\n",
    "import matplotlib.pyplot as plt\n",
    "%matplotlib inline\n",
    "plt.rcParams['figure.figsize'] = (10.0, 8.0) # set default size of plots\n",
    "plt.rcParams['image.interpolation'] = 'nearest'\n",
    "plt.rcParams['image.cmap'] = 'gray'\n",
    "\n",
    "# for auto-reloading extenrnal modules\n",
    "# see http://stackoverflow.com/questions/1907993/autoreload-of-modules-in-ipython\n",
    "%load_ext autoreload\n",
    "%autoreload 2"
   ]
  },
  {
   "cell_type": "code",
   "execution_count": 2,
   "metadata": {
    "collapsed": false
   },
   "outputs": [
    {
     "name": "stdout",
     "output_type": "stream",
     "text": [
      "Train data shape:  (49000, 3073)\n",
      "Train labels shape:  (49000,)\n",
      "Validation data shape:  (1000, 3073)\n",
      "Validation labels shape:  (1000,)\n",
      "Test data shape:  (1000, 3073)\n",
      "Test labels shape:  (1000,)\n",
      "dev data shape:  (500, 3073)\n",
      "dev labels shape:  (500,)\n"
     ]
    }
   ],
   "source": [
    "def get_CIFAR10_data(num_training=49000, num_validation=1000, num_test=1000, num_dev=500):\n",
    "  \"\"\"\n",
    "  Load the CIFAR-10 dataset from disk and perform preprocessing to prepare\n",
    "  it for the linear classifier. These are the same steps as we used for the\n",
    "  SVM, but condensed to a single function.  \n",
    "  \"\"\"\n",
    "  # Load the raw CIFAR-10 data\n",
    "  cifar10_dir = 'cs231n/datasets/cifar-10-batches-py'\n",
    "  X_train, y_train, X_test, y_test = load_CIFAR10(cifar10_dir)\n",
    "  \n",
    "  # subsample the data\n",
    "  mask = range(num_training, num_training + num_validation)\n",
    "  X_val = X_train[mask]\n",
    "  y_val = y_train[mask]\n",
    "  mask = range(num_training)\n",
    "  X_train = X_train[mask]\n",
    "  y_train = y_train[mask]\n",
    "  mask = range(num_test)\n",
    "  X_test = X_test[mask]\n",
    "  y_test = y_test[mask]\n",
    "  mask = np.random.choice(num_training, num_dev, replace=False)\n",
    "  X_dev = X_train[mask]\n",
    "  y_dev = y_train[mask]\n",
    "  \n",
    "  # Preprocessing: reshape the image data into rows\n",
    "  X_train = np.reshape(X_train, (X_train.shape[0], -1))\n",
    "  X_val = np.reshape(X_val, (X_val.shape[0], -1))\n",
    "  X_test = np.reshape(X_test, (X_test.shape[0], -1))\n",
    "  X_dev = np.reshape(X_dev, (X_dev.shape[0], -1))\n",
    "  \n",
    "  # Normalize the data: subtract the mean image\n",
    "  mean_image = np.mean(X_train, axis = 0)\n",
    "  X_train -= mean_image\n",
    "  X_val -= mean_image\n",
    "  X_test -= mean_image\n",
    "  X_dev -= mean_image\n",
    "  \n",
    "  # add bias dimension and transform into columns\n",
    "  X_train = np.hstack([X_train, np.ones((X_train.shape[0], 1))])\n",
    "  X_val = np.hstack([X_val, np.ones((X_val.shape[0], 1))])\n",
    "  X_test = np.hstack([X_test, np.ones((X_test.shape[0], 1))])\n",
    "  X_dev = np.hstack([X_dev, np.ones((X_dev.shape[0], 1))])\n",
    "  \n",
    "  return X_train, y_train, X_val, y_val, X_test, y_test, X_dev, y_dev\n",
    "\n",
    "\n",
    "# Invoke the above function to get our data.\n",
    "X_train, y_train, X_val, y_val, X_test, y_test, X_dev, y_dev = get_CIFAR10_data()\n",
    "print 'Train data shape: ', X_train.shape\n",
    "print 'Train labels shape: ', y_train.shape\n",
    "print 'Validation data shape: ', X_val.shape\n",
    "print 'Validation labels shape: ', y_val.shape\n",
    "print 'Test data shape: ', X_test.shape\n",
    "print 'Test labels shape: ', y_test.shape\n",
    "print 'dev data shape: ', X_dev.shape\n",
    "print 'dev labels shape: ', y_dev.shape"
   ]
  },
  {
   "cell_type": "markdown",
   "metadata": {},
   "source": [
    "## Softmax Classifier\n",
    "\n",
    "Your code for this section will all be written inside **cs231n/classifiers/softmax.py**. \n"
   ]
  },
  {
   "cell_type": "code",
   "execution_count": 5,
   "metadata": {
    "collapsed": false,
    "scrolled": false
   },
   "outputs": [
    {
     "name": "stdout",
     "output_type": "stream",
     "text": [
      "loss: 2.352965\n",
      "sanity check: 2.302585\n"
     ]
    }
   ],
   "source": [
    "# First implement the naive softmax loss function with nested loops.\n",
    "# Open the file cs231n/classifiers/softmax.py and implement the\n",
    "# softmax_loss_naive function.\n",
    "\n",
    "from cs231n.classifiers.softmax import softmax_loss_naive\n",
    "import time\n",
    "\n",
    "# Generate a random softmax weight matrix and use it to compute the loss.\n",
    "W = np.random.randn(3073, 10) * 0.0001\n",
    "loss, grad = softmax_loss_naive(W, X_dev, y_dev, 0.0)\n",
    "\n",
    "# As a rough sanity check, our loss should be something close to -log(0.1).\n",
    "print 'loss: %f' % loss\n",
    "print 'sanity check: %f' % (-np.log(0.1))"
   ]
  },
  {
   "cell_type": "markdown",
   "metadata": {},
   "source": [
    "## Inline Question 1:\n",
    "Why do we expect our loss to be close to -log(0.1)? Explain briefly.**\n",
    "\n",
    "**Your answer:** *Fill this in*\n"
   ]
  },
  {
   "cell_type": "code",
   "execution_count": 7,
   "metadata": {
    "collapsed": false,
    "scrolled": true
   },
   "outputs": [
    {
     "name": "stdout",
     "output_type": "stream",
     "text": [
      "numerical: 1.593664 analytic: 1.593664, relative error: 1.397606e-08\n",
      "numerical: 2.400889 analytic: 2.400889, relative error: 2.515544e-08\n",
      "numerical: 1.696097 analytic: 1.696097, relative error: 4.346339e-09\n",
      "numerical: -0.341323 analytic: -0.341323, relative error: 1.850679e-08\n",
      "numerical: 1.826994 analytic: 1.826994, relative error: 3.715128e-08\n",
      "numerical: 1.987168 analytic: 1.987168, relative error: 3.630444e-08\n",
      "numerical: -1.274676 analytic: -1.274676, relative error: 1.807098e-08\n",
      "numerical: 2.623628 analytic: 2.623628, relative error: 2.118846e-08\n",
      "numerical: -2.426444 analytic: -2.426444, relative error: 1.371200e-08\n",
      "numerical: -3.104174 analytic: -3.104174, relative error: 1.778422e-08\n",
      "numerical: 0.388590 analytic: 0.388590, relative error: 3.608872e-08\n",
      "numerical: -0.996045 analytic: -0.996045, relative error: 2.033423e-08\n",
      "numerical: 1.095719 analytic: 1.095719, relative error: 4.293628e-08\n",
      "numerical: -1.387848 analytic: -1.387848, relative error: 7.735071e-09\n",
      "numerical: 0.528854 analytic: 0.528854, relative error: 7.364252e-09\n",
      "numerical: 1.240031 analytic: 1.240031, relative error: 3.586002e-08\n",
      "numerical: 0.518898 analytic: 0.518898, relative error: 1.224603e-07\n",
      "numerical: 1.005186 analytic: 1.005185, relative error: 4.174087e-08\n",
      "numerical: -2.246658 analytic: -2.246658, relative error: 1.332257e-08\n",
      "numerical: -2.543113 analytic: -2.543113, relative error: 5.757280e-09\n"
     ]
    }
   ],
   "source": [
    "# Complete the implementation of softmax_loss_naive and implement a (naive)\n",
    "# version of the gradient that uses nested loops.\n",
    "loss, grad = softmax_loss_naive(W, X_dev, y_dev, 0.0)\n",
    "\n",
    "# As we did for the SVM, use numeric gradient checking as a debugging tool.\n",
    "# The numeric gradient should be close to the analytic gradient.\n",
    "from cs231n.gradient_check import grad_check_sparse\n",
    "f = lambda w: softmax_loss_naive(w, X_dev, y_dev, 0.0)[0]\n",
    "grad_numerical = grad_check_sparse(f, W, grad, 10)\n",
    "\n",
    "# similar to SVM case, do another gradient check with regularization\n",
    "loss, grad = softmax_loss_naive(W, X_dev, y_dev, 1e2)\n",
    "f = lambda w: softmax_loss_naive(w, X_dev, y_dev, 1e2)[0]\n",
    "grad_numerical = grad_check_sparse(f, W, grad, 10)"
   ]
  },
  {
   "cell_type": "code",
   "execution_count": 11,
   "metadata": {
    "collapsed": false
   },
   "outputs": [
    {
     "name": "stdout",
     "output_type": "stream",
     "text": [
      "naive loss: 2.352965e+00 computed in 0.274064s\n",
      "vectorized loss: 2.352965e+00 computed in 0.020854s\n",
      "Loss difference: 0.000000\n",
      "Gradient difference: 0.000000\n"
     ]
    }
   ],
   "source": [
    "# Now that we have a naive implementation of the softmax loss function and its gradient,\n",
    "# implement a vectorized version in softmax_loss_vectorized.\n",
    "# The two versions should compute the same results, but the vectorized version should be\n",
    "# much faster.\n",
    "tic = time.time()\n",
    "loss_naive, grad_naive = softmax_loss_naive(W, X_dev, y_dev, 0.00001)\n",
    "toc = time.time()\n",
    "print 'naive loss: %e computed in %fs' % (loss_naive, toc - tic)\n",
    "\n",
    "from cs231n.classifiers.softmax import softmax_loss_vectorized\n",
    "tic = time.time()\n",
    "loss_vectorized, grad_vectorized = softmax_loss_vectorized(W, X_dev, y_dev, 0.00001)\n",
    "toc = time.time()\n",
    "print 'vectorized loss: %e computed in %fs' % (loss_vectorized, toc - tic)\n",
    "\n",
    "# As we did for the SVM, we use the Frobenius norm to compare the two versions\n",
    "# of the gradient.\n",
    "grad_difference = np.linalg.norm(grad_naive - grad_vectorized, ord='fro')\n",
    "print 'Loss difference: %f' % np.abs(loss_naive - loss_vectorized)\n",
    "print 'Gradient difference: %f' % grad_difference"
   ]
  },
  {
   "cell_type": "code",
   "execution_count": 13,
   "metadata": {
    "collapsed": false
   },
   "outputs": [
    {
     "name": "stdout",
     "output_type": "stream",
     "text": [
      "lr 1.000000e-07 reg 1.000000e+04 train accuracy: 0.359673 val accuracy: 0.370000\n",
      "lr 1.000000e-07 reg 2.000000e+04 train accuracy: 0.358327 val accuracy: 0.368000\n",
      "lr 1.000000e-07 reg 3.000000e+04 train accuracy: 0.343000 val accuracy: 0.362000\n",
      "lr 1.000000e-07 reg 4.000000e+04 train accuracy: 0.337245 val accuracy: 0.347000\n",
      "lr 1.000000e-07 reg 5.000000e+04 train accuracy: 0.329633 val accuracy: 0.339000\n",
      "lr 1.000000e-07 reg 8.000000e+04 train accuracy: 0.314653 val accuracy: 0.327000\n",
      "lr 1.000000e-07 reg 9.000000e+04 train accuracy: 0.314143 val accuracy: 0.327000\n",
      "lr 1.000000e-07 reg 1.000000e+05 train accuracy: 0.307000 val accuracy: 0.326000\n",
      "lr 1.000000e-07 reg 4.000000e+05 train accuracy: 0.267020 val accuracy: 0.277000\n",
      "lr 1.000000e-07 reg 5.000000e+05 train accuracy: 0.260633 val accuracy: 0.280000\n",
      "lr 1.000000e-07 reg 1.000000e+06 train accuracy: 0.254612 val accuracy: 0.264000\n",
      "lr 1.000000e-07 reg 2.000000e+06 train accuracy: 0.245898 val accuracy: 0.256000\n",
      "lr 1.000000e-07 reg 5.000000e+06 train accuracy: 0.253327 val accuracy: 0.261000\n",
      "lr 1.000000e-07 reg 8.000000e+06 train accuracy: 0.229163 val accuracy: 0.248000\n",
      "lr 1.000000e-07 reg 1.000000e+07 train accuracy: 0.212102 val accuracy: 0.216000\n",
      "lr 1.000000e-07 reg 5.000000e+07 train accuracy: 0.100265 val accuracy: 0.087000\n",
      "lr 1.000000e-07 reg 8.000000e+07 train accuracy: 0.100265 val accuracy: 0.087000\n",
      "lr 1.000000e-07 reg 1.000000e+08 train accuracy: 0.100265 val accuracy: 0.087000\n",
      "lr 2.000000e-07 reg 1.000000e+04 train accuracy: 0.372122 val accuracy: 0.376000\n",
      "lr 2.000000e-07 reg 2.000000e+04 train accuracy: 0.352490 val accuracy: 0.362000\n",
      "lr 2.000000e-07 reg 3.000000e+04 train accuracy: 0.348592 val accuracy: 0.359000\n",
      "lr 2.000000e-07 reg 4.000000e+04 train accuracy: 0.333939 val accuracy: 0.354000\n",
      "lr 2.000000e-07 reg 5.000000e+04 train accuracy: 0.334898 val accuracy: 0.359000\n",
      "lr 2.000000e-07 reg 8.000000e+04 train accuracy: 0.312714 val accuracy: 0.328000\n",
      "lr 2.000000e-07 reg 9.000000e+04 train accuracy: 0.313204 val accuracy: 0.341000\n",
      "lr 2.000000e-07 reg 1.000000e+05 train accuracy: 0.317571 val accuracy: 0.333000\n",
      "lr 2.000000e-07 reg 4.000000e+05 train accuracy: 0.279184 val accuracy: 0.288000\n",
      "lr 2.000000e-07 reg 5.000000e+05 train accuracy: 0.263959 val accuracy: 0.277000\n",
      "lr 2.000000e-07 reg 1.000000e+06 train accuracy: 0.261061 val accuracy: 0.262000\n",
      "lr 2.000000e-07 reg 2.000000e+06 train accuracy: 0.218837 val accuracy: 0.224000\n",
      "lr 2.000000e-07 reg 5.000000e+06 train accuracy: 0.202102 val accuracy: 0.187000\n",
      "lr 2.000000e-07 reg 8.000000e+06 train accuracy: 0.179735 val accuracy: 0.171000\n",
      "lr 2.000000e-07 reg 1.000000e+07 train accuracy: 0.100265 val accuracy: 0.087000\n",
      "lr 2.000000e-07 reg 5.000000e+07 train accuracy: 0.100265 val accuracy: 0.087000\n",
      "lr 2.000000e-07 reg 8.000000e+07 train accuracy: 0.100265 val accuracy: 0.087000\n",
      "lr 2.000000e-07 reg 1.000000e+08 train accuracy: 0.100265 val accuracy: 0.087000\n",
      "lr 3.000000e-07 reg 1.000000e+04 train accuracy: 0.374082 val accuracy: 0.385000\n",
      "lr 3.000000e-07 reg 2.000000e+04 train accuracy: 0.354551 val accuracy: 0.370000\n",
      "lr 3.000000e-07 reg 3.000000e+04 train accuracy: 0.344510 val accuracy: 0.363000\n",
      "lr 3.000000e-07 reg 4.000000e+04 train accuracy: 0.326449 val accuracy: 0.343000\n",
      "lr 3.000000e-07 reg 5.000000e+04 train accuracy: 0.333429 val accuracy: 0.329000\n",
      "lr 3.000000e-07 reg 8.000000e+04 train accuracy: 0.302571 val accuracy: 0.318000\n",
      "lr 3.000000e-07 reg 9.000000e+04 train accuracy: 0.302204 val accuracy: 0.319000\n",
      "lr 3.000000e-07 reg 1.000000e+05 train accuracy: 0.313061 val accuracy: 0.327000\n",
      "lr 3.000000e-07 reg 4.000000e+05 train accuracy: 0.256429 val accuracy: 0.271000\n",
      "lr 3.000000e-07 reg 5.000000e+05 train accuracy: 0.252306 val accuracy: 0.259000\n",
      "lr 3.000000e-07 reg 1.000000e+06 train accuracy: 0.231469 val accuracy: 0.245000\n",
      "lr 3.000000e-07 reg 2.000000e+06 train accuracy: 0.217837 val accuracy: 0.217000\n",
      "lr 3.000000e-07 reg 5.000000e+06 train accuracy: 0.143898 val accuracy: 0.147000\n",
      "lr 3.000000e-07 reg 8.000000e+06 train accuracy: 0.100265 val accuracy: 0.087000\n",
      "lr 3.000000e-07 reg 1.000000e+07 train accuracy: 0.100265 val accuracy: 0.087000\n",
      "lr 3.000000e-07 reg 5.000000e+07 train accuracy: 0.100265 val accuracy: 0.087000\n",
      "lr 3.000000e-07 reg 8.000000e+07 train accuracy: 0.100265 val accuracy: 0.087000\n",
      "lr 3.000000e-07 reg 1.000000e+08 train accuracy: 0.100265 val accuracy: 0.087000\n",
      "lr 5.000000e-07 reg 1.000000e+04 train accuracy: 0.371776 val accuracy: 0.391000\n",
      "lr 5.000000e-07 reg 2.000000e+04 train accuracy: 0.351878 val accuracy: 0.367000\n",
      "lr 5.000000e-07 reg 3.000000e+04 train accuracy: 0.344510 val accuracy: 0.355000\n",
      "lr 5.000000e-07 reg 4.000000e+04 train accuracy: 0.336020 val accuracy: 0.346000\n",
      "lr 5.000000e-07 reg 5.000000e+04 train accuracy: 0.323735 val accuracy: 0.336000\n",
      "lr 5.000000e-07 reg 8.000000e+04 train accuracy: 0.301347 val accuracy: 0.319000\n",
      "lr 5.000000e-07 reg 9.000000e+04 train accuracy: 0.306061 val accuracy: 0.322000\n",
      "lr 5.000000e-07 reg 1.000000e+05 train accuracy: 0.297531 val accuracy: 0.318000\n",
      "lr 5.000000e-07 reg 4.000000e+05 train accuracy: 0.258816 val accuracy: 0.272000\n",
      "lr 5.000000e-07 reg 5.000000e+05 train accuracy: 0.275816 val accuracy: 0.282000\n",
      "lr 5.000000e-07 reg 1.000000e+06 train accuracy: 0.231122 val accuracy: 0.242000\n",
      "lr 5.000000e-07 reg 2.000000e+06 train accuracy: 0.230163 val accuracy: 0.235000\n",
      "lr 5.000000e-07 reg 5.000000e+06 train accuracy: 0.100265 val accuracy: 0.087000\n",
      "lr 5.000000e-07 reg 8.000000e+06 train accuracy: 0.100265 val accuracy: 0.087000\n",
      "lr 5.000000e-07 reg 1.000000e+07 train accuracy: 0.100265 val accuracy: 0.087000\n",
      "lr 5.000000e-07 reg 5.000000e+07 train accuracy: 0.100265 val accuracy: 0.087000\n",
      "lr 5.000000e-07 reg 8.000000e+07 train accuracy: 0.100265 val accuracy: 0.087000\n",
      "lr 5.000000e-07 reg 1.000000e+08 train accuracy: 0.100265 val accuracy: 0.087000\n",
      "lr 8.000000e-07 reg 1.000000e+04 train accuracy: 0.372612 val accuracy: 0.387000\n",
      "lr 8.000000e-07 reg 2.000000e+04 train accuracy: 0.343816 val accuracy: 0.348000\n",
      "lr 8.000000e-07 reg 3.000000e+04 train accuracy: 0.333939 val accuracy: 0.342000\n",
      "lr 8.000000e-07 reg 4.000000e+04 train accuracy: 0.320796 val accuracy: 0.342000\n",
      "lr 8.000000e-07 reg 5.000000e+04 train accuracy: 0.323469 val accuracy: 0.345000\n",
      "lr 8.000000e-07 reg 8.000000e+04 train accuracy: 0.302673 val accuracy: 0.300000\n",
      "lr 8.000000e-07 reg 9.000000e+04 train accuracy: 0.301857 val accuracy: 0.322000\n",
      "lr 8.000000e-07 reg 1.000000e+05 train accuracy: 0.303122 val accuracy: 0.307000\n",
      "lr 8.000000e-07 reg 4.000000e+05 train accuracy: 0.256265 val accuracy: 0.283000\n",
      "lr 8.000000e-07 reg 5.000000e+05 train accuracy: 0.229714 val accuracy: 0.244000\n",
      "lr 8.000000e-07 reg 1.000000e+06 train accuracy: 0.200388 val accuracy: 0.197000\n",
      "lr 8.000000e-07 reg 2.000000e+06 train accuracy: 0.188551 val accuracy: 0.174000\n",
      "lr 8.000000e-07 reg 5.000000e+06 train accuracy: 0.100265 val accuracy: 0.087000\n",
      "lr 8.000000e-07 reg 8.000000e+06 train accuracy: 0.100265 val accuracy: 0.087000\n",
      "lr 8.000000e-07 reg 1.000000e+07 train accuracy: 0.100265 val accuracy: 0.087000\n",
      "lr 8.000000e-07 reg 5.000000e+07 train accuracy: 0.100265 val accuracy: 0.087000\n",
      "lr 8.000000e-07 reg 8.000000e+07 train accuracy: 0.100265 val accuracy: 0.087000\n",
      "lr 8.000000e-07 reg 1.000000e+08 train accuracy: 0.100265 val accuracy: 0.087000\n",
      "lr 9.000000e-07 reg 1.000000e+04 train accuracy: 0.363408 val accuracy: 0.379000\n",
      "lr 9.000000e-07 reg 2.000000e+04 train accuracy: 0.348449 val accuracy: 0.353000\n",
      "lr 9.000000e-07 reg 3.000000e+04 train accuracy: 0.346429 val accuracy: 0.350000\n",
      "lr 9.000000e-07 reg 4.000000e+04 train accuracy: 0.338571 val accuracy: 0.353000\n",
      "lr 9.000000e-07 reg 5.000000e+04 train accuracy: 0.327714 val accuracy: 0.335000\n",
      "lr 9.000000e-07 reg 8.000000e+04 train accuracy: 0.300388 val accuracy: 0.311000\n",
      "lr 9.000000e-07 reg 9.000000e+04 train accuracy: 0.289102 val accuracy: 0.303000\n",
      "lr 9.000000e-07 reg 1.000000e+05 train accuracy: 0.301224 val accuracy: 0.306000\n",
      "lr 9.000000e-07 reg 4.000000e+05 train accuracy: 0.241653 val accuracy: 0.251000\n",
      "lr 9.000000e-07 reg 5.000000e+05 train accuracy: 0.238959 val accuracy: 0.260000\n",
      "lr 9.000000e-07 reg 1.000000e+06 train accuracy: 0.218918 val accuracy: 0.228000\n",
      "lr 9.000000e-07 reg 2.000000e+06 train accuracy: 0.106306 val accuracy: 0.108000\n",
      "lr 9.000000e-07 reg 5.000000e+06 train accuracy: 0.100265 val accuracy: 0.087000\n",
      "lr 9.000000e-07 reg 8.000000e+06 train accuracy: 0.100265 val accuracy: 0.087000\n",
      "lr 9.000000e-07 reg 1.000000e+07 train accuracy: 0.100265 val accuracy: 0.087000\n",
      "lr 9.000000e-07 reg 5.000000e+07 train accuracy: 0.100265 val accuracy: 0.087000\n",
      "lr 9.000000e-07 reg 8.000000e+07 train accuracy: 0.100265 val accuracy: 0.087000\n",
      "lr 9.000000e-07 reg 1.000000e+08 train accuracy: 0.100265 val accuracy: 0.087000\n",
      "lr 1.000000e-06 reg 1.000000e+04 train accuracy: 0.371510 val accuracy: 0.371000\n",
      "lr 1.000000e-06 reg 2.000000e+04 train accuracy: 0.347102 val accuracy: 0.349000\n",
      "lr 1.000000e-06 reg 3.000000e+04 train accuracy: 0.351469 val accuracy: 0.352000\n",
      "lr 1.000000e-06 reg 4.000000e+04 train accuracy: 0.332469 val accuracy: 0.333000\n",
      "lr 1.000000e-06 reg 5.000000e+04 train accuracy: 0.324959 val accuracy: 0.340000\n",
      "lr 1.000000e-06 reg 8.000000e+04 train accuracy: 0.298939 val accuracy: 0.307000\n",
      "lr 1.000000e-06 reg 9.000000e+04 train accuracy: 0.305224 val accuracy: 0.313000\n",
      "lr 1.000000e-06 reg 1.000000e+05 train accuracy: 0.295776 val accuracy: 0.312000\n",
      "lr 1.000000e-06 reg 4.000000e+05 train accuracy: 0.264755 val accuracy: 0.268000\n",
      "lr 1.000000e-06 reg 5.000000e+05 train accuracy: 0.246224 val accuracy: 0.269000\n",
      "lr 1.000000e-06 reg 1.000000e+06 train accuracy: 0.212000 val accuracy: 0.235000\n",
      "lr 1.000000e-06 reg 2.000000e+06 train accuracy: 0.100265 val accuracy: 0.087000\n",
      "lr 1.000000e-06 reg 5.000000e+06 train accuracy: 0.100265 val accuracy: 0.087000\n",
      "lr 1.000000e-06 reg 8.000000e+06 train accuracy: 0.100265 val accuracy: 0.087000\n",
      "lr 1.000000e-06 reg 1.000000e+07 train accuracy: 0.100265 val accuracy: 0.087000\n",
      "lr 1.000000e-06 reg 5.000000e+07 train accuracy: 0.100265 val accuracy: 0.087000\n",
      "lr 1.000000e-06 reg 8.000000e+07 train accuracy: 0.100265 val accuracy: 0.087000\n",
      "lr 1.000000e-06 reg 1.000000e+08 train accuracy: 0.100265 val accuracy: 0.087000\n",
      "best validation accuracy achieved during cross-validation: 0.391000\n"
     ]
    }
   ],
   "source": [
    "# Use the validation set to tune hyperparameters (regularization strength and\n",
    "# learning rate). You should experiment with different ranges for the learning\n",
    "# rates and regularization strengths; if you are careful you should be able to\n",
    "# get a classification accuracy of over 0.35 on the validation set.\n",
    "from cs231n.classifiers import Softmax\n",
    "results = {}\n",
    "best_val = -1\n",
    "best_softmax = None\n",
    "learning_rates = [1e-7,2e-7,3e-7,8e-7,5e-7,9e-7,1e-6]\n",
    "regularization_strengths = [1e4,2e4,3e4,4e4,5e4,8e4,9e4,1e5,5e5,4e5,1e6,2e6,5e6,8e6,1e7,5e7,8e7,1e8]\n",
    "\n",
    "################################################################################\n",
    "# TODO:                                                                        #\n",
    "# Use the validation set to set the learning rate and regularization strength. #\n",
    "# This should be identical to the validation that you did for the SVM; save    #\n",
    "# the best trained softmax classifer in best_softmax.                          #\n",
    "################################################################################\n",
    "#pass\n",
    "iters = 2000\n",
    "for lr in learning_rates:\n",
    "    for rs in regularization_strengths:\n",
    "        softmax = Softmax()\n",
    "        softmax.train(X_train,y_train, learning_rate=lr, reg=rs, num_iters=iters)\n",
    "        \n",
    "        y_train_pred = softmax.predict(X_train)\n",
    "        acc_train = np.mean(y_train == y_train_pred)\n",
    "        y_val_pred = softmax.predict(X_val)\n",
    "        acc_val = np.mean(y_val == y_val_pred)\n",
    "        \n",
    "        results[(lr, rs)] = (acc_train, acc_val)\n",
    "        \n",
    "        if best_val < acc_val:\n",
    "            best_val = acc_val\n",
    "            best_softmax = softmax\n",
    "################################################################################\n",
    "#                              END OF YOUR CODE                                #\n",
    "################################################################################\n",
    "    \n",
    "# Print out results.\n",
    "for lr, reg in sorted(results):\n",
    "    train_accuracy, val_accuracy = results[(lr, reg)]\n",
    "    print 'lr %e reg %e train accuracy: %f val accuracy: %f' % (\n",
    "                lr, reg, train_accuracy, val_accuracy)\n",
    "    \n",
    "print 'best validation accuracy achieved during cross-validation: %f' % best_val"
   ]
  },
  {
   "cell_type": "code",
   "execution_count": 14,
   "metadata": {
    "collapsed": false
   },
   "outputs": [
    {
     "name": "stdout",
     "output_type": "stream",
     "text": [
      "softmax on raw pixels final test set accuracy: 0.370000\n"
     ]
    }
   ],
   "source": [
    "# evaluate on test set\n",
    "# Evaluate the best softmax on test set\n",
    "y_test_pred = best_softmax.predict(X_test)\n",
    "test_accuracy = np.mean(y_test == y_test_pred)\n",
    "print 'softmax on raw pixels final test set accuracy: %f' % (test_accuracy, )"
   ]
  },
  {
   "cell_type": "code",
   "execution_count": 15,
   "metadata": {
    "collapsed": false
   },
   "outputs": [
    {
     "data": {
      "image/png": "[encoded data removed]",
      "text/plain": [
       "<matplotlib.figure.Figure at 0x7fe237db1e10>"
      ]
     },
     "metadata": {},
     "output_type": "display_data"
    }
   ],
   "source": [
    "# Visualize the learned weights for each class\n",
    "w = best_softmax.W[:-1,:] # strip out the bias\n",
    "w = w.reshape(32, 32, 3, 10)\n",
    "\n",
    "w_min, w_max = np.min(w), np.max(w)\n",
    "\n",
    "classes = ['plane', 'car', 'bird', 'cat', 'deer', 'dog', 'frog', 'horse', 'ship', 'truck']\n",
    "for i in xrange(10):\n",
    "  plt.subplot(2, 5, i + 1)\n",
    "  \n",
    "  # Rescale the weights to be between 0 and 255\n",
    "  wimg = 255.0 * (w[:, :, :, i].squeeze() - w_min) / (w_max - w_min)\n",
    "  plt.imshow(wimg.astype('uint8'))\n",
    "  plt.axis('off')\n",
    "  plt.title(classes[i])"
   ]
  },
  {
   "cell_type": "code",
   "execution_count": null,
   "metadata": {
    "collapsed": true
   },
   "outputs": [],
   "source": []
  }
 ],
 "metadata": {
  "kernelspec": {
   "display_name": "Python 2",
   "language": "python",
   "name": "python2"
  },
  "language_info": {
   "codemirror_mode": {
    "name": "ipython",
    "version": 2
   },
   "file_extension": ".py",
   "mimetype": "text/x-python",
   "name": "python",
   "nbconvert_exporter": "python",
   "pygments_lexer": "ipython2",
   "version": "2.7.9"
  }
 },
 "nbformat": 4,
 "nbformat_minor": 0
}
